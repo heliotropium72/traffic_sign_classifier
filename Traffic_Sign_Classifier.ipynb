{
 "cells": [
  {
   "cell_type": "markdown",
   "metadata": {},
   "source": [
    "# Traffic Sign Recognition Classifier\n",
    "\n",
    "## Project within the Self-Driving Car Engineer Nanodegree: Deep Learning\n",
    "\n",
    "### Work in progress: Stand 4/11/2017\n",
    "\n",
    "The template for this project can be found at [Udacity's github account](https://github.com/udacity/CarND-Traffic-Sign-Classifier-Project). The [data](https://d17h27t6h515a5.cloudfront.net/topher/2017/February/5898cd6f_traffic-signs-data/traffic-signs-data.zip) used in this project is a pre-processed version of the [German Traffic Sign Dataset](http://benchmark.ini.rub.de/?section=gtsrb&subsection=dataset). The project **should** full-fill all points of the project's [rubric](https://review.udacity.com/#!/rubrics/481/view) and includes also **0** of the stand-out suggestions.\n",
    "\n",
    "This notebook is a modified version of the above template.\n",
    "\n",
    "> **Note**: Once you have completed all of the code implementations, you need to finalize your work by exporting the iPython Notebook as an HTML document. Before exporting the notebook to html, all of the code cells need to have been run so that reviewers can see the final implementation and output. You can then export the notebook by using the menu above and navigating to  \\n\",\n",
    "    \"**File -> Download as -> HTML (.html)**. Include the finished document along with this notebook as your submission. "
   ]
  },
  {
   "cell_type": "markdown",
   "metadata": {},
   "source": [
    "---\n",
    "## Step 0: Load The Data"
   ]
  },
  {
   "cell_type": "code",
   "execution_count": 1,
   "metadata": {
    "collapsed": true
   },
   "outputs": [],
   "source": [
    "# Load some basic libraries\n",
    "import numpy as np # Efficient numerical arrays\n",
    "import pandas as pd # Time series analysis\n",
    "import matplotlib.pyplot as plt # Visulisation\n",
    "%matplotlib inline\n",
    "import cv2"
   ]
  },
  {
   "cell_type": "code",
   "execution_count": 2,
   "metadata": {
    "collapsed": true
   },
   "outputs": [],
   "source": [
    "# Load pickled data\n",
    "import pickle\n",
    "\n",
    "training_file = \"../train.p\"\n",
    "validation_file = \"../valid.p\"\n",
    "testing_file = \"../test.p\"\n",
    "signnames_file = \"signnames.csv\"\n",
    "\n",
    "with open(training_file, mode='rb') as f:\n",
    "    train = pickle.load(f)\n",
    "with open(validation_file, mode='rb') as f:\n",
    "    valid = pickle.load(f)\n",
    "with open(testing_file, mode='rb') as f:\n",
    "    test = pickle.load(f)\n",
    "\n",
    "signnames = pd.read_csv(signnames_file)\n",
    "    \n",
    "X_train, y_train = train['features'], train['labels']\n",
    "X_valid, y_valid = valid['features'], valid['labels']\n",
    "X_test, y_test = test['features'], test['labels']"
   ]
  },
  {
   "cell_type": "markdown",
   "metadata": {},
   "source": [
    "---\n",
    "\n",
    "## Step 1: Dataset Summary & Exploration\n",
    "\n",
    "The pickled data is a dictionary with 4 key/value pairs:\n",
    "\n",
    "- `'features'` is a 4D array containing raw pixel data of the traffic sign images, (num examples, width, height, channels).\n",
    "- `'labels'` is a 1D array containing the label/class id of the traffic sign. The file `signnames.csv` contains id -> name mappings for each id.\n",
    "- `'sizes'` is a list containing tuples, (width, height) representing the original width and height the image.\n",
    "- `'coords'` is a list containing tuples, (x1, y1, x2, y2) representing coordinates of a bounding box around the sign in the image. **THESE COORDINATES ASSUME THE ORIGINAL IMAGE. THE PICKLED DATA CONTAINS RESIZED VERSIONS (32 by 32) OF THESE IMAGES**\n",
    "\n",
    "Complete the basic data summary below. Use python, numpy and/or pandas methods to calculate the data summary rather than hard coding the results. For example, the [pandas shape method](http://pandas.pydata.org/pandas-docs/stable/generated/pandas.DataFrame.shape.html) might be useful for calculating some of the summary results. "
   ]
  },
  {
   "cell_type": "markdown",
   "metadata": {},
   "source": [
    "### Provide a Basic Summary of the Data Set Using Python, Numpy and/or Pandas"
   ]
  },
  {
   "cell_type": "code",
   "execution_count": 3,
   "metadata": {},
   "outputs": [
    {
     "name": "stdout",
     "output_type": "stream",
     "text": [
      "Number of training examples = 34799\n",
      "Number of validation examples = 4410\n",
      "Number of testing examples = 12630\n",
      "Image data shape = (32, 32, 3)\n",
      "Number of classes = 43\n"
     ]
    }
   ],
   "source": [
    "n_train = X_train.shape[0]\n",
    "n_validation = X_valid.shape[0]\n",
    "n_test = X_test.shape[0]\n",
    "\n",
    "# shape of an traffic sign image\n",
    "image_shape = X_train.shape[1:]\n",
    "\n",
    "# unique classes/labels\n",
    "n_classes = len(np.unique(y_train))\n",
    "\n",
    "print(\"Number of training examples =\", n_train)\n",
    "print(\"Number of validation examples =\", n_validation)\n",
    "print(\"Number of testing examples =\", n_test)\n",
    "print(\"Image data shape =\", image_shape)\n",
    "print(\"Number of classes =\", n_classes)"
   ]
  },
  {
   "cell_type": "markdown",
   "metadata": {},
   "source": [
    "### Include an exploratory visualization of the dataset"
   ]
  },
  {
   "cell_type": "markdown",
   "metadata": {},
   "source": [
    "Visualize the German Traffic Signs Dataset using the pickled file(s). This is open ended, suggestions include: plotting traffic sign images, plotting the count of each sign, etc. \n",
    "\n",
    "The [Matplotlib](http://matplotlib.org/) [examples](http://matplotlib.org/examples/index.html) and [gallery](http://matplotlib.org/gallery.html) pages are a great resource for doing visualizations in Python.\n",
    "\n",
    "**NOTE:** It's recommended you start with something simple first. If you wish to do more, come back to it after you've completed the rest of the sections. It can be interesting to look at the distribution of classes in the training, validation and test set. Is the distribution the same? Are there more examples of some classes than others?"
   ]
  },
  {
   "cell_type": "code",
   "execution_count": null,
   "metadata": {
    "collapsed": true
   },
   "outputs": [],
   "source": []
  },
  {
   "cell_type": "code",
   "execution_count": 4,
   "metadata": {},
   "outputs": [
    {
     "data": {
      "image/png": "[encoded data removed]",
      "text/plain": [
       "<matplotlib.figure.Figure at 0x7f7004463978>"
      ]
     },
     "metadata": {},
     "output_type": "display_data"
    }
   ],
   "source": [
    "#Fast visualisation of label distribution\n",
    "n, bins, patches = plt.hist(y_train, bins=n_classes)"
   ]
  },
  {
   "cell_type": "code",
   "execution_count": 5,
   "metadata": {},
   "outputs": [
    {
     "name": "stdout",
     "output_type": "stream",
     "text": [
      "Classes ordered by their frequency in the data set\n"
     ]
    },
    {
     "data": {
      "text/html": [
       "<div>\n",
       "<table border=\"1\" class=\"dataframe\">\n",
       "  <thead>\n",
       "    <tr style=\"text-align: right;\">\n",
       "      <th></th>\n",
       "      <th>ClassId</th>\n",
       "      <th>SignName</th>\n",
       "      <th>Amount</th>\n",
       "      <th>Percentage</th>\n",
       "    </tr>\n",
       "  </thead>\n",
       "  <tbody>\n",
       "    <tr>\n",
       "      <th>2</th>\n",
       "      <td>2</td>\n",
       "      <td>Speed limit (50km/h)</td>\n",
       "      <td>2010.0</td>\n",
       "      <td>5.776028</td>\n",
       "    </tr>\n",
       "    <tr>\n",
       "      <th>1</th>\n",
       "      <td>1</td>\n",
       "      <td>Speed limit (30km/h)</td>\n",
       "      <td>1980.0</td>\n",
       "      <td>5.689819</td>\n",
       "    </tr>\n",
       "    <tr>\n",
       "      <th>13</th>\n",
       "      <td>13</td>\n",
       "      <td>Yield</td>\n",
       "      <td>1920.0</td>\n",
       "      <td>5.517400</td>\n",
       "    </tr>\n",
       "    <tr>\n",
       "      <th>12</th>\n",
       "      <td>12</td>\n",
       "      <td>Priority road</td>\n",
       "      <td>1890.0</td>\n",
       "      <td>5.431191</td>\n",
       "    </tr>\n",
       "    <tr>\n",
       "      <th>38</th>\n",
       "      <td>38</td>\n",
       "      <td>Keep right</td>\n",
       "      <td>1860.0</td>\n",
       "      <td>5.344981</td>\n",
       "    </tr>\n",
       "    <tr>\n",
       "      <th>10</th>\n",
       "      <td>10</td>\n",
       "      <td>No passing for vehicles over 3.5 metric tons</td>\n",
       "      <td>1800.0</td>\n",
       "      <td>5.172562</td>\n",
       "    </tr>\n",
       "    <tr>\n",
       "      <th>4</th>\n",
       "      <td>4</td>\n",
       "      <td>Speed limit (70km/h)</td>\n",
       "      <td>1770.0</td>\n",
       "      <td>5.086353</td>\n",
       "    </tr>\n",
       "    <tr>\n",
       "      <th>5</th>\n",
       "      <td>5</td>\n",
       "      <td>Speed limit (80km/h)</td>\n",
       "      <td>1650.0</td>\n",
       "      <td>4.741516</td>\n",
       "    </tr>\n",
       "    <tr>\n",
       "      <th>25</th>\n",
       "      <td>25</td>\n",
       "      <td>Road work</td>\n",
       "      <td>1350.0</td>\n",
       "      <td>3.879422</td>\n",
       "    </tr>\n",
       "    <tr>\n",
       "      <th>9</th>\n",
       "      <td>9</td>\n",
       "      <td>No passing</td>\n",
       "      <td>1320.0</td>\n",
       "      <td>3.793212</td>\n",
       "    </tr>\n",
       "    <tr>\n",
       "      <th>7</th>\n",
       "      <td>7</td>\n",
       "      <td>Speed limit (100km/h)</td>\n",
       "      <td>1290.0</td>\n",
       "      <td>3.707003</td>\n",
       "    </tr>\n",
       "    <tr>\n",
       "      <th>3</th>\n",
       "      <td>3</td>\n",
       "      <td>Speed limit (60km/h)</td>\n",
       "      <td>1260.0</td>\n",
       "      <td>3.620794</td>\n",
       "    </tr>\n",
       "    <tr>\n",
       "      <th>8</th>\n",
       "      <td>8</td>\n",
       "      <td>Speed limit (120km/h)</td>\n",
       "      <td>1260.0</td>\n",
       "      <td>3.620794</td>\n",
       "    </tr>\n",
       "    <tr>\n",
       "      <th>11</th>\n",
       "      <td>11</td>\n",
       "      <td>Right-of-way at the next intersection</td>\n",
       "      <td>1170.0</td>\n",
       "      <td>3.362166</td>\n",
       "    </tr>\n",
       "    <tr>\n",
       "      <th>35</th>\n",
       "      <td>35</td>\n",
       "      <td>Ahead only</td>\n",
       "      <td>1080.0</td>\n",
       "      <td>3.103537</td>\n",
       "    </tr>\n",
       "    <tr>\n",
       "      <th>18</th>\n",
       "      <td>18</td>\n",
       "      <td>General caution</td>\n",
       "      <td>1080.0</td>\n",
       "      <td>3.103537</td>\n",
       "    </tr>\n",
       "    <tr>\n",
       "      <th>17</th>\n",
       "      <td>17</td>\n",
       "      <td>No entry</td>\n",
       "      <td>990.0</td>\n",
       "      <td>2.844909</td>\n",
       "    </tr>\n",
       "    <tr>\n",
       "      <th>31</th>\n",
       "      <td>31</td>\n",
       "      <td>Wild animals crossing</td>\n",
       "      <td>690.0</td>\n",
       "      <td>1.982816</td>\n",
       "    </tr>\n",
       "    <tr>\n",
       "      <th>14</th>\n",
       "      <td>14</td>\n",
       "      <td>Stop</td>\n",
       "      <td>690.0</td>\n",
       "      <td>1.982816</td>\n",
       "    </tr>\n",
       "    <tr>\n",
       "      <th>33</th>\n",
       "      <td>33</td>\n",
       "      <td>Turn right ahead</td>\n",
       "      <td>599.0</td>\n",
       "      <td>1.721314</td>\n",
       "    </tr>\n",
       "    <tr>\n",
       "      <th>15</th>\n",
       "      <td>15</td>\n",
       "      <td>No vehicles</td>\n",
       "      <td>540.0</td>\n",
       "      <td>1.551769</td>\n",
       "    </tr>\n",
       "    <tr>\n",
       "      <th>26</th>\n",
       "      <td>26</td>\n",
       "      <td>Traffic signals</td>\n",
       "      <td>540.0</td>\n",
       "      <td>1.551769</td>\n",
       "    </tr>\n",
       "    <tr>\n",
       "      <th>28</th>\n",
       "      <td>28</td>\n",
       "      <td>Children crossing</td>\n",
       "      <td>480.0</td>\n",
       "      <td>1.379350</td>\n",
       "    </tr>\n",
       "    <tr>\n",
       "      <th>23</th>\n",
       "      <td>23</td>\n",
       "      <td>Slippery road</td>\n",
       "      <td>450.0</td>\n",
       "      <td>1.293141</td>\n",
       "    </tr>\n",
       "    <tr>\n",
       "      <th>30</th>\n",
       "      <td>30</td>\n",
       "      <td>Beware of ice/snow</td>\n",
       "      <td>390.0</td>\n",
       "      <td>1.120722</td>\n",
       "    </tr>\n",
       "    <tr>\n",
       "      <th>16</th>\n",
       "      <td>16</td>\n",
       "      <td>Vehicles over 3.5 metric tons prohibited</td>\n",
       "      <td>360.0</td>\n",
       "      <td>1.034512</td>\n",
       "    </tr>\n",
       "    <tr>\n",
       "      <th>34</th>\n",
       "      <td>34</td>\n",
       "      <td>Turn left ahead</td>\n",
       "      <td>360.0</td>\n",
       "      <td>1.034512</td>\n",
       "    </tr>\n",
       "    <tr>\n",
       "      <th>6</th>\n",
       "      <td>6</td>\n",
       "      <td>End of speed limit (80km/h)</td>\n",
       "      <td>360.0</td>\n",
       "      <td>1.034512</td>\n",
       "    </tr>\n",
       "    <tr>\n",
       "      <th>36</th>\n",
       "      <td>36</td>\n",
       "      <td>Go straight or right</td>\n",
       "      <td>330.0</td>\n",
       "      <td>0.948303</td>\n",
       "    </tr>\n",
       "    <tr>\n",
       "      <th>22</th>\n",
       "      <td>22</td>\n",
       "      <td>Bumpy road</td>\n",
       "      <td>330.0</td>\n",
       "      <td>0.948303</td>\n",
       "    </tr>\n",
       "    <tr>\n",
       "      <th>40</th>\n",
       "      <td>40</td>\n",
       "      <td>Roundabout mandatory</td>\n",
       "      <td>300.0</td>\n",
       "      <td>0.862094</td>\n",
       "    </tr>\n",
       "    <tr>\n",
       "      <th>20</th>\n",
       "      <td>20</td>\n",
       "      <td>Dangerous curve to the right</td>\n",
       "      <td>300.0</td>\n",
       "      <td>0.862094</td>\n",
       "    </tr>\n",
       "    <tr>\n",
       "      <th>39</th>\n",
       "      <td>39</td>\n",
       "      <td>Keep left</td>\n",
       "      <td>270.0</td>\n",
       "      <td>0.775884</td>\n",
       "    </tr>\n",
       "    <tr>\n",
       "      <th>21</th>\n",
       "      <td>21</td>\n",
       "      <td>Double curve</td>\n",
       "      <td>270.0</td>\n",
       "      <td>0.775884</td>\n",
       "    </tr>\n",
       "    <tr>\n",
       "      <th>29</th>\n",
       "      <td>29</td>\n",
       "      <td>Bicycles crossing</td>\n",
       "      <td>240.0</td>\n",
       "      <td>0.689675</td>\n",
       "    </tr>\n",
       "    <tr>\n",
       "      <th>24</th>\n",
       "      <td>24</td>\n",
       "      <td>Road narrows on the right</td>\n",
       "      <td>240.0</td>\n",
       "      <td>0.689675</td>\n",
       "    </tr>\n",
       "    <tr>\n",
       "      <th>41</th>\n",
       "      <td>41</td>\n",
       "      <td>End of no passing</td>\n",
       "      <td>210.0</td>\n",
       "      <td>0.603466</td>\n",
       "    </tr>\n",
       "    <tr>\n",
       "      <th>42</th>\n",
       "      <td>42</td>\n",
       "      <td>End of no passing by vehicles over 3.5 metric ...</td>\n",
       "      <td>210.0</td>\n",
       "      <td>0.603466</td>\n",
       "    </tr>\n",
       "    <tr>\n",
       "      <th>32</th>\n",
       "      <td>32</td>\n",
       "      <td>End of all speed and passing limits</td>\n",
       "      <td>210.0</td>\n",
       "      <td>0.603466</td>\n",
       "    </tr>\n",
       "    <tr>\n",
       "      <th>27</th>\n",
       "      <td>27</td>\n",
       "      <td>Pedestrians</td>\n",
       "      <td>210.0</td>\n",
       "      <td>0.603466</td>\n",
       "    </tr>\n",
       "    <tr>\n",
       "      <th>37</th>\n",
       "      <td>37</td>\n",
       "      <td>Go straight or left</td>\n",
       "      <td>180.0</td>\n",
       "      <td>0.517256</td>\n",
       "    </tr>\n",
       "    <tr>\n",
       "      <th>19</th>\n",
       "      <td>19</td>\n",
       "      <td>Dangerous curve to the left</td>\n",
       "      <td>180.0</td>\n",
       "      <td>0.517256</td>\n",
       "    </tr>\n",
       "    <tr>\n",
       "      <th>0</th>\n",
       "      <td>0</td>\n",
       "      <td>Speed limit (20km/h)</td>\n",
       "      <td>180.0</td>\n",
       "      <td>0.517256</td>\n",
       "    </tr>\n",
       "  </tbody>\n",
       "</table>\n",
       "</div>"
      ],
      "text/plain": [
       "    ClassId                                           SignName  Amount  \\\n",
       "2         2                               Speed limit (50km/h)  2010.0   \n",
       "1         1                               Speed limit (30km/h)  1980.0   \n",
       "13       13                                              Yield  1920.0   \n",
       "12       12                                      Priority road  1890.0   \n",
       "38       38                                         Keep right  1860.0   \n",
       "10       10       No passing for vehicles over 3.5 metric tons  1800.0   \n",
       "4         4                               Speed limit (70km/h)  1770.0   \n",
       "5         5                               Speed limit (80km/h)  1650.0   \n",
       "25       25                                          Road work  1350.0   \n",
       "9         9                                         No passing  1320.0   \n",
       "7         7                              Speed limit (100km/h)  1290.0   \n",
       "3         3                               Speed limit (60km/h)  1260.0   \n",
       "8         8                              Speed limit (120km/h)  1260.0   \n",
       "11       11              Right-of-way at the next intersection  1170.0   \n",
       "35       35                                         Ahead only  1080.0   \n",
       "18       18                                    General caution  1080.0   \n",
       "17       17                                           No entry   990.0   \n",
       "31       31                              Wild animals crossing   690.0   \n",
       "14       14                                               Stop   690.0   \n",
       "33       33                                   Turn right ahead   599.0   \n",
       "15       15                                        No vehicles   540.0   \n",
       "26       26                                    Traffic signals   540.0   \n",
       "28       28                                  Children crossing   480.0   \n",
       "23       23                                      Slippery road   450.0   \n",
       "30       30                                 Beware of ice/snow   390.0   \n",
       "16       16           Vehicles over 3.5 metric tons prohibited   360.0   \n",
       "34       34                                    Turn left ahead   360.0   \n",
       "6         6                        End of speed limit (80km/h)   360.0   \n",
       "36       36                               Go straight or right   330.0   \n",
       "22       22                                         Bumpy road   330.0   \n",
       "40       40                               Roundabout mandatory   300.0   \n",
       "20       20                       Dangerous curve to the right   300.0   \n",
       "39       39                                          Keep left   270.0   \n",
       "21       21                                       Double curve   270.0   \n",
       "29       29                                  Bicycles crossing   240.0   \n",
       "24       24                          Road narrows on the right   240.0   \n",
       "41       41                                  End of no passing   210.0   \n",
       "42       42  End of no passing by vehicles over 3.5 metric ...   210.0   \n",
       "32       32                End of all speed and passing limits   210.0   \n",
       "27       27                                        Pedestrians   210.0   \n",
       "37       37                                Go straight or left   180.0   \n",
       "19       19                        Dangerous curve to the left   180.0   \n",
       "0         0                               Speed limit (20km/h)   180.0   \n",
       "\n",
       "    Percentage  \n",
       "2     5.776028  \n",
       "1     5.689819  \n",
       "13    5.517400  \n",
       "12    5.431191  \n",
       "38    5.344981  \n",
       "10    5.172562  \n",
       "4     5.086353  \n",
       "5     4.741516  \n",
       "25    3.879422  \n",
       "9     3.793212  \n",
       "7     3.707003  \n",
       "3     3.620794  \n",
       "8     3.620794  \n",
       "11    3.362166  \n",
       "35    3.103537  \n",
       "18    3.103537  \n",
       "17    2.844909  \n",
       "31    1.982816  \n",
       "14    1.982816  \n",
       "33    1.721314  \n",
       "15    1.551769  \n",
       "26    1.551769  \n",
       "28    1.379350  \n",
       "23    1.293141  \n",
       "30    1.120722  \n",
       "16    1.034512  \n",
       "34    1.034512  \n",
       "6     1.034512  \n",
       "36    0.948303  \n",
       "22    0.948303  \n",
       "40    0.862094  \n",
       "20    0.862094  \n",
       "39    0.775884  \n",
       "21    0.775884  \n",
       "29    0.689675  \n",
       "24    0.689675  \n",
       "41    0.603466  \n",
       "42    0.603466  \n",
       "32    0.603466  \n",
       "27    0.603466  \n",
       "37    0.517256  \n",
       "19    0.517256  \n",
       "0     0.517256  "
      ]
     },
     "metadata": {},
     "output_type": "display_data"
    }
   ],
   "source": [
    "# Add the values to the signnames dataframe to do more stuff\n",
    "signnames['Amount'] = n\n",
    "signnames['Percentage'] = n / n_train * 100\n",
    "\n",
    "sorted_signnames = signnames.sort_values(by=['Percentage'], ascending=False)\n",
    "\n",
    "from IPython.display import display\n",
    "print('Classes ordered by their frequency in the data set')\n",
    "display(sorted_signnames)"
   ]
  },
  {
   "cell_type": "code",
   "execution_count": 6,
   "metadata": {},
   "outputs": [
    {
     "name": "stdout",
     "output_type": "stream",
     "text": [
      "113\n",
      "19\n"
     ]
    }
   ],
   "source": [
    "print(X_train[0].max())\n",
    "print(X_train[0].min())"
   ]
  },
  {
   "cell_type": "code",
   "execution_count": 7,
   "metadata": {},
   "outputs": [
    {
     "data": {
      "image/png": "[encoded data removed]",
      "text/plain": [
       "<matplotlib.figure.Figure at 0x7f70042cfdd8>"
      ]
     },
     "metadata": {},
     "output_type": "display_data"
    },
    {
     "data": {
      "image/png": "[encoded data removed]",
      "text/plain": [
       "<matplotlib.figure.Figure at 0x7f70043e6198>"
      ]
     },
     "metadata": {},
     "output_type": "display_data"
    }
   ],
   "source": [
    "def signname(index, y_data=y_train):\n",
    "    return signnames['SignName'].values[y_data[index]]\n",
    "\n",
    "def plot_training_image(index):\n",
    "    plt.figure()\n",
    "    label = signnames\n",
    "    plt.title('Label: {}'.format(signname(index)))\n",
    "    plt.imshow(X_train[index])\n",
    "    plt.show()\n",
    "\n",
    "# Plot two examples\n",
    "plot_training_image(50)\n",
    "plot_training_image(5000)"
   ]
  },
  {
   "cell_type": "code",
   "execution_count": 8,
   "metadata": {},
   "outputs": [
    {
     "data": {
      "text/plain": [
       "<matplotlib.image.AxesImage at 0x7f70040fae80>"
      ]
     },
     "execution_count": 8,
     "metadata": {},
     "output_type": "execute_result"
    },
    {
     "data": {
      "image/png": "[encoded data removed]",
      "text/plain": [
       "<matplotlib.figure.Figure at 0x7f70041fe748>"
      ]
     },
     "metadata": {},
     "output_type": "display_data"
    },
    {
     "data": {
      "image/png": "[encoded data removed]",
      "text/plain": [
       "<matplotlib.figure.Figure at 0x7f700423b320>"
      ]
     },
     "metadata": {},
     "output_type": "display_data"
    },
    {
     "data": {
      "image/png": "[encoded data removed]",
      "text/plain": [
       "<matplotlib.figure.Figure at 0x7f70041a1780>"
      ]
     },
     "metadata": {},
     "output_type": "display_data"
    },
    {
     "data": {
      "image/png": "[encoded data removed]",
      "text/plain": [
       "<matplotlib.figure.Figure at 0x7f7004137978>"
      ]
     },
     "metadata": {},
     "output_type": "display_data"
    },
    {
     "data": {
      "image/png": "[encoded data removed]",
      "text/plain": [
       "<matplotlib.figure.Figure at 0x7f7004291be0>"
      ]
     },
     "metadata": {},
     "output_type": "display_data"
    }
   ],
   "source": [
    "# Do some tests\n",
    "testimg = X_train[20000]\n",
    "testarr = X_train[0:5]\n",
    "#print(testimg)\n",
    "\n",
    "# Colour thresholding\n",
    "#blue = testimg[:,:,2]\n",
    "#blue = blue[blue>200]\n",
    "\n",
    "plt.figure()\n",
    "plt.imshow(testimg[:,:,0], cmap='Reds', vmin=50, vmax=128)\n",
    "plt.figure()\n",
    "plt.imshow(testimg[:,:,1], cmap='Greens', vmin=50, vmax=128)\n",
    "plt.figure()\n",
    "plt.imshow(testimg[:,:,1], cmap='Blues', vmin=50, vmax=128)\n",
    "\n",
    "testarrnew = []\n",
    "testimg = cv2.cvtColor(testimg, cv2.COLOR_RGB2GRAY)\n",
    "testarrnew.append(cv2.cvtColor(testarr[0], cv2.COLOR_RGB2GRAY))\n",
    "\n",
    "plt.figure()\n",
    "plt.imshow(testimg, cmap='Greys_r')\n",
    "plt.figure()\n",
    "plt.imshow(testarrnew[0], cmap='Greys_r')\n",
    "#print(testimg)"
   ]
  },
  {
   "cell_type": "markdown",
   "metadata": {},
   "source": [
    "----\n",
    "\n",
    "## Step 2: Design and Test a Model Architecture\n",
    "\n",
    "Design and implement a deep learning model that learns to recognize traffic signs. Train and test your model on the [German Traffic Sign Dataset](http://benchmark.ini.rub.de/?section=gtsrb&subsection=dataset).\n",
    "\n",
    "The LeNet-5 implementation shown in the [classroom](https://classroom.udacity.com/nanodegrees/nd013/parts/fbf77062-5703-404e-b60c-95b78b2f3f9e/modules/6df7ae49-c61c-4bb2-a23e-6527e69209ec/lessons/601ae704-1035-4287-8b11-e2c2716217ad/concepts/d4aca031-508f-4e0b-b493-e7b706120f81) at the end of the CNN lesson is a solid starting point. You'll have to change the number of classes and possibly the preprocessing, but aside from that it's plug and play! \n",
    "\n",
    "With the LeNet-5 solution from the lecture, you should expect a validation set accuracy of about 0.89. To meet specifications, the validation set accuracy will need to be at least 0.93. It is possible to get an even higher accuracy, but 0.93 is the minimum for a successful project submission. \n",
    "\n",
    "There are various aspects to consider when thinking about this problem:\n",
    "\n",
    "- Neural network architecture (is the network over or underfitting?)\n",
    "- Play around preprocessing techniques (normalization, rgb to grayscale, etc)\n",
    "- Number of examples per label (some have more than others).\n",
    "- Generate fake data.\n",
    "\n",
    "Here is an example of a [published baseline model on this problem](http://yann.lecun.com/exdb/publis/pdf/sermanet-ijcnn-11.pdf). It's not required to be familiar with the approach used in the paper but, it's good practice to try to read papers like these."
   ]
  },
  {
   "cell_type": "markdown",
   "metadata": {},
   "source": [
    "### Pre-process the Data Set (normalization, grayscale, etc.)"
   ]
  },
  {
   "cell_type": "markdown",
   "metadata": {},
   "source": [
    "Minimally, the image data should be normalized so that the data has mean zero and equal variance. For image data, `(pixel - 128)/ 128` is a quick way to approximately normalize the data and can be used in this project. \n",
    "\n",
    "Other pre-processing steps are optional. You can try different techniques to see if it improves performance. \n",
    "\n",
    "Use the code cell (or multiple code cells, if necessary) to implement the first step of your project."
   ]
  },
  {
   "cell_type": "code",
   "execution_count": 9,
   "metadata": {},
   "outputs": [
    {
     "data": {
      "image/png": "[encoded data removed]",
      "text/plain": [
       "<matplotlib.figure.Figure at 0x7f7004093da0>"
      ]
     },
     "metadata": {},
     "output_type": "display_data"
    }
   ],
   "source": [
    "import cv2\n",
    "\n",
    "# Normalization\n",
    "def MinMaxScaler( data, max=255, min=0): #Images values have range 0-255\n",
    "    return (data - min) / (max - min)\n",
    "\n",
    "# Standardization\n",
    "def Standardiser(data):\n",
    "    return (data - np.array(data).mean()) / np.array(data).std()\n",
    "\n",
    "# Data stretching = cutoff of noise/outliers\n",
    "def Stretching(data):\n",
    "    pass\n",
    "\n",
    "# Colour Transformations\n",
    "def Grayscale(data):\n",
    "    ''' Does it need to be in another layer?'''\n",
    "    data_new = []\n",
    "    for i in range(len(data)):\n",
    "         data_new.append(cv2.cvtColor( data[i], cv2.COLOR_RGB2GRAY))\n",
    "    data_new = np.array(data_new)\n",
    "    data_new.reshape(-1,32,32,1)\n",
    "    return data_new\n",
    "\n",
    "def ColourThreshold(data):\n",
    "    ''' For colour (rgb) images only '''\n",
    "    pass\n",
    "    # Idea... add another layer e.g. red, green, blue and grayscale\n",
    "    # Red and blue should be strongly thresholded since traffic signs are mainly these colours\n",
    "\n",
    "# Combined pipleine for pre-processing\n",
    "def preprocessing(data):\n",
    "    data = Grayscale(data)\n",
    "    #data = MinMaxScaler(data)\n",
    "    data = Standardiser(data)\n",
    "    return data\n",
    "\n",
    "\n",
    "\n",
    "X_train = preprocessing(X_train)\n",
    "X_valid = preprocessing(X_valid)\n",
    "X_test = preprocessing(X_test)\n",
    "\n",
    "# Check the outcome\n",
    "plot_training_image(50)\n"
   ]
  },
  {
   "cell_type": "code",
   "execution_count": 10,
   "metadata": {},
   "outputs": [
    {
     "name": "stdout",
     "output_type": "stream",
     "text": [
      "(34799, 32, 32)\n",
      "Preprocessing resulted in incompatible data format\n",
      "Succesfully reshaped to (34799, 32, 32, 1)\n"
     ]
    }
   ],
   "source": [
    "# Check the shape of the input after preprocessing\n",
    "print(X_train.shape)\n",
    "\n",
    "try:\n",
    "    input_depth = X_train.shape[3]\n",
    "except:\n",
    "    print('Preprocessing resulted in incompatible data format')\n",
    "\n",
    "    try:\n",
    "        X_train = X_train.reshape(len(X_train),32,32,1)\n",
    "        input_depth = X_train.shape[3]\n",
    "        \n",
    "        X_valid = X_valid.reshape(len(X_valid),32,32,1)\n",
    "        X_test = X_test.reshape(len(X_test),32,32,1)\n",
    "        print('Succesfully reshaped to {}'.format(X_train.shape))\n",
    "    except:\n",
    "        pass"
   ]
  },
  {
   "cell_type": "code",
   "execution_count": null,
   "metadata": {
    "collapsed": true
   },
   "outputs": [],
   "source": [
    "\n"
   ]
  },
  {
   "cell_type": "markdown",
   "metadata": {},
   "source": [
    "### Model Architecture\n",
    "Start based on the LeNet Architecture\n",
    "\n",
    "* Layer 1: Convolutional. The output shape should be 28x28x6.\n",
    "\n",
    "* Activation. Your choice of activation function.\n",
    "\n",
    "* Pooling. The output shape should be 14x14x6.\n",
    "\n",
    "* Layer 2: Convolutional. The output shape should be 10x10x16.\n",
    "\n",
    "* Activation. Your choice of activation function.\n",
    "\n",
    "* Pooling. The output shape should be 5x5x16.\n",
    "\n",
    "* Flatten. Flatten the output shape of the final pooling layer such that it's 1D instead of 3D. The easiest way to do is by using tf.contrib.layers.flatten, which is already imported for you.\n",
    "\n",
    "* Layer 3: Fully Connected. This should have 120 outputs.\n",
    "\n",
    "* Activation. Your choice of activation function.\n",
    "\n",
    "* Layer 4: Fully Connected. This should have 84 outputs.\n",
    "\n",
    "* Activation. Your choice of activation function.\n",
    "\n",
    "* Layer 5: Fully Connected (Logits). This should have 43 outputs.\n"
   ]
  },
  {
   "cell_type": "code",
   "execution_count": 11,
   "metadata": {
    "collapsed": true
   },
   "outputs": [],
   "source": [
    "import tensorflow as tf\n",
    "from tensorflow.contrib.layers import flatten\n",
    "\n",
    "def ConvNet(x):    \n",
    "    # Arguments used for tf.truncated_normal, randomly defines variables for the weights and biases for each layer\n",
    "    mu = 0\n",
    "    sigma = 0.1\n",
    "    \n",
    "    # Layer 1: Convolutional. Input = 32x32x3. Output = 29x29x6.\n",
    "    W1 = tf.Variable(tf.truncated_normal((4,4,input_depth,6), mean=mu, stddev=sigma))\n",
    "    b1 = tf.Variable(tf.zeros(6))\n",
    "    conv1 = tf.nn.conv2d(x, W1, strides=[1, 1, 1, 1], padding='VALID')\n",
    "    conv1 = tf.nn.bias_add(conv1, b1)\n",
    "\n",
    "    # Activation.\n",
    "    conv1 = tf.nn.relu(conv1)\n",
    "    \n",
    "    # Layer1.2 : Convolutional. Input 29x29x6. Output 28x28x12\n",
    "    W11 = tf.Variable(tf.truncated_normal((2,2,6,12), mean=mu, stddev=sigma))\n",
    "    b11 = tf.Variable(tf.zeros(12))\n",
    "    conv1 = tf.nn.conv2d(conv1, W11, strides=[1, 1, 1, 1], padding='VALID')\n",
    "    conv1 = tf.nn.bias_add(conv1, b11)\n",
    "\n",
    "    # Activation.\n",
    "    conv1 = tf.nn.relu(conv1)    \n",
    "    \n",
    "    # Pooling. Input = 28x28x12. Output = 14x14x12.\n",
    "    conv1 = tf.nn.max_pool(conv1, ksize=[1, 2, 2, 1], strides=[1, 2, 2, 1], padding='VALID')\n",
    "\n",
    "    # Layer 2: Convolutional. Input = 14x14x12. Output = 10x10x16.\n",
    "    W2 = tf.Variable(tf.truncated_normal((5,5,12,16), mean=mu, stddev=sigma))\n",
    "    b2 = tf.Variable(tf.zeros(16))\n",
    "    conv2 = tf.nn.conv2d(conv1, W2, strides=[1, 1, 1, 1], padding='VALID')\n",
    "    conv2 = tf.nn.bias_add(conv2, b2)\n",
    "    \n",
    "    # Activation.\n",
    "    conv2 = tf.nn.relu(conv2)\n",
    "    \n",
    "    # Pooling. Input = 10x10x16. Output = 5x5x16.\n",
    "    conv2 = tf.nn.max_pool(conv2, ksize=[1, 2, 2, 1], strides=[1, 2, 2, 1], padding='VALID')\n",
    "    \n",
    "    # Flatten. Input = 5x5x16. Output = 400.\n",
    "    conv2 = flatten(conv2)\n",
    "    \n",
    "    # Layer 3: Fully Connected. Input = 400. Output = 120.\n",
    "    W3 = tf.Variable(tf.truncated_normal((400,120), mean=mu, stddev=sigma))\n",
    "    b3 = tf.Variable(tf.zeros(120))\n",
    "    layer3 = tf.add(tf.matmul(conv2, W3), b3)\n",
    "    \n",
    "    # Activation.\n",
    "    layer3 = tf.nn.relu(layer3)\n",
    "\n",
    "    # Dropout to prevent overfitting\n",
    "#    fc1 = tf.nn.dropout(layer3, DROPOUT)\n",
    "    \n",
    "    # Layer 4: Fully Connected. Input = 120. Output = 84.\n",
    "    W4 = tf.Variable(tf.truncated_normal((120,84), mean=mu, stddev=sigma))\n",
    "    b4 = tf.Variable(tf.zeros(84))\n",
    "    layer4 = tf.add(tf.matmul(layer3, W4), b4)\n",
    "    \n",
    "    # Activation.\n",
    "    layer4 = tf.nn.relu(layer4)\n",
    "\n",
    "    # Layer 5: Fully Connected. Input = 84. Output = 43 (n_classes).\n",
    "    W5 = tf.Variable(tf.truncated_normal((84,n_classes), mean=mu, stddev=sigma))\n",
    "    b5 = tf.Variable(tf.zeros(n_classes))\n",
    "    logits = tf.add(tf.matmul(layer4, W5), b5)\n",
    "    \n",
    "    return logits"
   ]
  },
  {
   "cell_type": "markdown",
   "metadata": {},
   "source": [
    "### Train, Validate and Test the Model"
   ]
  },
  {
   "cell_type": "markdown",
   "metadata": {},
   "source": [
    "A validation set can be used to assess how well the model is performing. A low accuracy on the training and validation\n",
    "sets imply underfitting. A high accuracy on the training set but low accuracy on the validation set implies overfitting."
   ]
  },
  {
   "cell_type": "code",
   "execution_count": 12,
   "metadata": {
    "collapsed": true
   },
   "outputs": [],
   "source": [
    "# Hyperparameters\n",
    "RATE = 0.0005\n",
    "EPOCHS = 10\n",
    "BATCH_SIZE = 128\n",
    "#DROPOUT = 0.75\n",
    "\n",
    "# Placeholders for one batch of images and labels\n",
    "x = tf.placeholder(tf.float32, (None, 32, 32, input_depth))\n",
    "y = tf.placeholder(tf.int32, (None))\n",
    "one_hot_y = tf.one_hot(y, 43)\n",
    "#keep_prob = tf.placeholder(tf.float32)"
   ]
  },
  {
   "cell_type": "markdown",
   "metadata": {},
   "source": [
    "### Training pipeline"
   ]
  },
  {
   "cell_type": "code",
   "execution_count": 13,
   "metadata": {
    "collapsed": true
   },
   "outputs": [],
   "source": [
    "logits = ConvNet(x)\n",
    "cross_entropy = tf.nn.softmax_cross_entropy_with_logits(labels=one_hot_y, logits=logits)\n",
    "loss_operation = tf.reduce_mean(cross_entropy)\n",
    "optimizer = tf.train.AdamOptimizer(learning_rate=RATE)\n",
    "training_operation = optimizer.minimize(loss_operation)"
   ]
  },
  {
   "cell_type": "markdown",
   "metadata": {},
   "source": [
    "### Model Evaluation pipeline"
   ]
  },
  {
   "cell_type": "code",
   "execution_count": 14,
   "metadata": {
    "collapsed": true
   },
   "outputs": [],
   "source": [
    "correct_prediction = tf.equal(tf.argmax(logits, 1), tf.argmax(one_hot_y, 1))\n",
    "accuracy_operation = tf.reduce_mean(tf.cast(correct_prediction, tf.float32))\n",
    "saver = tf.train.Saver()\n",
    "\n",
    "def evaluate(X_data, y_data):\n",
    "    num_examples = len(X_data)\n",
    "    total_accuracy = 0\n",
    "    sess = tf.get_default_session()\n",
    "    for offset in range(0, num_examples, BATCH_SIZE):\n",
    "        batch_x, batch_y = X_data[offset:offset+BATCH_SIZE], y_data[offset:offset+BATCH_SIZE]\n",
    "        accuracy = sess.run(accuracy_operation, feed_dict={x: batch_x, y: batch_y})#, keep_prob: 1.})\n",
    "        total_accuracy += (accuracy * len(batch_x))\n",
    "    return total_accuracy / num_examples\n",
    "\n"
   ]
  },
  {
   "cell_type": "markdown",
   "metadata": {},
   "source": [
    "### Train the model\n",
    "The model is learning by running the training though the training pipline. Then the loss and accuracy is analysed by using the model to predict the validation data. This information is used to improve the model by backpropagation (stochastic gradient descent). These steps are repeated for xx epochs.\n",
    "In the end, the model is saved."
   ]
  },
  {
   "cell_type": "code",
   "execution_count": 15,
   "metadata": {},
   "outputs": [
    {
     "name": "stdout",
     "output_type": "stream",
     "text": [
      "Training...\n",
      "\n",
      "EPOCH 1 ...\n",
      "Validation Accuracy = 0.666\n",
      "\n",
      "EPOCH 2 ...\n",
      "Validation Accuracy = 0.834\n",
      "\n",
      "EPOCH 3 ...\n",
      "Validation Accuracy = 0.865\n",
      "\n",
      "EPOCH 4 ...\n",
      "Validation Accuracy = 0.892\n",
      "\n",
      "EPOCH 5 ...\n",
      "Validation Accuracy = 0.901\n",
      "\n",
      "EPOCH 6 ...\n",
      "Validation Accuracy = 0.901\n",
      "\n",
      "EPOCH 7 ...\n",
      "Validation Accuracy = 0.908\n",
      "\n",
      "EPOCH 8 ...\n",
      "Validation Accuracy = 0.914\n",
      "\n",
      "EPOCH 9 ...\n",
      "Validation Accuracy = 0.921\n",
      "\n",
      "EPOCH 10 ...\n",
      "Validation Accuracy = 0.912\n",
      "\n",
      "Model saved\n"
     ]
    }
   ],
   "source": [
    "from sklearn.utils import shuffle\n",
    "\n",
    "with tf.Session() as sess:\n",
    "    sess.run(tf.global_variables_initializer())\n",
    "    num_examples = len(X_train)\n",
    "    \n",
    "    print(\"Training...\")\n",
    "    print()\n",
    "    for i in range(EPOCHS):\n",
    "        X_train, y_train = shuffle(X_train, y_train)\n",
    "        for offset in range(0, num_examples, BATCH_SIZE):\n",
    "            end = offset + BATCH_SIZE\n",
    "            batch_x, batch_y = X_train[offset:end], y_train[offset:end]\n",
    "            sess.run(training_operation, feed_dict={x: batch_x, y: batch_y})#, keep_prob: DROPOUT})\n",
    "            \n",
    "        validation_accuracy = evaluate(X_valid, y_valid)\n",
    "        print(\"EPOCH {} ...\".format(i+1))\n",
    "        print(\"Validation Accuracy = {:.3f}\".format(validation_accuracy))\n",
    "        print()\n",
    "        \n",
    "    saver.save(sess, './convnet')\n",
    "    print(\"Model saved\")"
   ]
  },
  {
   "cell_type": "markdown",
   "metadata": {},
   "source": [
    "### Evaluate the model with the test data\n",
    "When the model is ready, the accuracy can be measured with the test data set. That step should be performed only once in order to keep the test data and model completley independent."
   ]
  },
  {
   "cell_type": "code",
   "execution_count": 16,
   "metadata": {},
   "outputs": [
    {
     "name": "stdout",
     "output_type": "stream",
     "text": [
      "Test Accuracy = 0.905\n"
     ]
    }
   ],
   "source": [
    "with tf.Session() as sess:\n",
    "    saver.restore(sess, tf.train.latest_checkpoint('.'))\n",
    "\n",
    "    test_accuracy = evaluate(X_test, y_test)\n",
    "    print(\"Test Accuracy = {:.3f}\".format(test_accuracy))"
   ]
  },
  {
   "cell_type": "markdown",
   "metadata": {},
   "source": [
    "---\n",
    "\n",
    "## Step 3: Test a Model on New Images\n",
    "\n",
    "To check how the model is working, several traffic sign images were downloaded from the internet. The label (=class id) were assigned according to `signnames.csv`. The test images were chosen such that an image of the class with the most train images and an image of the class with the fewest train images is present. Also a partly modified image was chosen to check how the model can adapt."
   ]
  },
  {
   "cell_type": "markdown",
   "metadata": {},
   "source": [
    "### Load and Output the Images"
   ]
  },
  {
   "cell_type": "code",
   "execution_count": 30,
   "metadata": {},
   "outputs": [
    {
     "data": {
      "image/png": "[encoded data removed]",
      "text/plain": [
       "<matplotlib.figure.Figure at 0x7f6fdead6d68>"
      ]
     },
     "metadata": {},
     "output_type": "display_data"
    },
    {
     "data": {
      "image/png": "[encoded data removed]",
      "text/plain": [
       "<matplotlib.figure.Figure at 0x7f6fde853f98>"
      ]
     },
     "metadata": {},
     "output_type": "display_data"
    },
    {
     "data": {
      "image/png": "[encoded data removed]",
      "text/plain": [
       "<matplotlib.figure.Figure at 0x7f6fde878898>"
      ]
     },
     "metadata": {},
     "output_type": "display_data"
    },
    {
     "data": {
      "image/png": "[encoded data removed]",
      "text/plain": [
       "<matplotlib.figure.Figure at 0x7f6fdeb9a9e8>"
      ]
     },
     "metadata": {},
     "output_type": "display_data"
    },
    {
     "data": {
      "image/png": "[encoded data removed]",
      "text/plain": [
       "<matplotlib.figure.Figure at 0x7f6fdeb1e4e0>"
      ]
     },
     "metadata": {},
     "output_type": "display_data"
    },
    {
     "data": {
      "image/png": "[encoded data removed]",
      "text/plain": [
       "<matplotlib.figure.Figure at 0x7f6fde935a20>"
      ]
     },
     "metadata": {},
     "output_type": "display_data"
    },
    {
     "data": {
      "image/png": "[encoded data removed]",
      "text/plain": [
       "<matplotlib.figure.Figure at 0x7f6fde8db518>"
      ]
     },
     "metadata": {},
     "output_type": "display_data"
    },
    {
     "data": {
      "image/png": "[encoded data removed]",
      "text/plain": [
       "<matplotlib.figure.Figure at 0x7f6fde896860>"
      ]
     },
     "metadata": {},
     "output_type": "display_data"
    },
    {
     "data": {
      "image/png": "[encoded data removed]",
      "text/plain": [
       "<matplotlib.figure.Figure at 0x7f6fde839780>"
      ]
     },
     "metadata": {},
     "output_type": "display_data"
    },
    {
     "data": {
      "image/png": "[encoded data removed]",
      "text/plain": [
       "<matplotlib.figure.Figure at 0x7f6fded456a0>"
      ]
     },
     "metadata": {},
     "output_type": "display_data"
    },
    {
     "data": {
      "image/png": "[encoded data removed]",
      "text/plain": [
       "<matplotlib.figure.Figure at 0x7f6fded41160>"
      ]
     },
     "metadata": {},
     "output_type": "display_data"
    }
   ],
   "source": [
    "pic_dir = \"test_images\"\n",
    "import os\n",
    "pic_path = os.listdir(pic_dir)\n",
    "pic_label = [38, 17, 25, 18, 9, 2, 2, 23, 0, 0, 1]\n",
    "#pic_path = [\"test_images/speed_limit_50_photo.jpg\", \"test_images/speed_limit_50.jpg\", \"test_images/no_passing.jpg\",\n",
    "#            \"test_images/speed_limit_20_2.jpg\", \"test_images/no_entry_modified.jpg\"]\n",
    "#pic_label = [2, 2, 9, 0, 17]\n",
    "\n",
    "def load_and_plot_image(img_id):\n",
    "    pic = plt.imread(os.path.join(pic_dir,pic_path[img_id]))\n",
    "    pic = cv2.resize(pic, (32, 32))\n",
    "    plt.figure()\n",
    "    #plt.subplot(5,2, img_id+1)\n",
    "    plt.imshow(pic)\n",
    "    plt.title('Label: {}'.format(signnames['SignName'].values[pic_label[img_id]]))\n",
    "    return pic\n",
    "\n",
    "pics = []\n",
    "#plt.figure(10)\n",
    "for i in range(len(pic_label)):\n",
    "    pics.append(load_and_plot_image(i))\n",
    "\n",
    "#plt.figure()\n",
    "#plt.subplot(2,1,1)\n",
    "#plt.imshow(pics[0])\n",
    "#plt.subplot(2,2,1)\n",
    "#plt.imshow(pics[1])"
   ]
  },
  {
   "cell_type": "markdown",
   "metadata": {},
   "source": [
    "### Predict the Sign Type for Each Image"
   ]
  },
  {
   "cell_type": "code",
   "execution_count": 31,
   "metadata": {},
   "outputs": [],
   "source": [
    "X_new = pics\n",
    "\n",
    "y_new = pic_label\n",
    "X_new = preprocessing(X_new)\n",
    "X_new = X_new.reshape(-1,32,32,1)\n",
    "\n",
    "pred = tf.nn.softmax(logits)\n",
    "with tf.Session() as sess:\n",
    "    saver.restore(sess, tf.train.latest_checkpoint('.'))\n",
    "    \n",
    "    predictions = sess.run(pred, feed_dict={x: X_new})\n",
    "    top_pred = sess.run(tf.nn.top_k(tf.constant(predictions), k=5))\n",
    "    #print(top_pred)"
   ]
  },
  {
   "cell_type": "markdown",
   "metadata": {},
   "source": [
    "### Visualization of the Softmax probabilites of every image"
   ]
  },
  {
   "cell_type": "code",
   "execution_count": 32,
   "metadata": {},
   "outputs": [
    {
     "data": {
      "text/plain": [
       "<matplotlib.legend.Legend at 0x7f6fdea20ba8>"
      ]
     },
     "execution_count": 32,
     "metadata": {},
     "output_type": "execute_result"
    },
    {
     "data": {
      "image/png": "[encoded data removed]",
      "text/plain": [
       "<matplotlib.figure.Figure at 0x7f6fdec02470>"
      ]
     },
     "metadata": {},
     "output_type": "display_data"
    }
   ],
   "source": [
    "label_id = np.arange(0,n_classes,1)[::-1]\n",
    "plt.figure()\n",
    "plt.title(\"Predictions\")\n",
    "plt.barh(label_id, predictions[0][::-1], label='pic0: {}'.format(pic_label[0]))\n",
    "plt.barh(label_id, predictions[1][::-1], label='pic1: {}'.format(pic_label[1]))\n",
    "plt.barh(label_id, predictions[2][::-1], label='pic2: {}'.format(pic_label[2]))\n",
    "plt.barh(label_id, predictions[3][::-1], label='pic3: {}'.format(pic_label[3]))\n",
    "plt.barh(label_id, predictions[4][::-1], label='pic4: {}'.format(pic_label[4]))\n",
    "plt.ylabel('Sign type (class id)')\n",
    "plt.xlabel('Probability')\n",
    "plt.ylim(n_classes,0)\n",
    "plt.legend()"
   ]
  },
  {
   "cell_type": "markdown",
   "metadata": {},
   "source": [
    "### Analyze Performance"
   ]
  },
  {
   "cell_type": "code",
   "execution_count": 34,
   "metadata": {},
   "outputs": [
    {
     "name": "stdout",
     "output_type": "stream",
     "text": [
      "Image 0 : Keep right\n",
      "Predicted Keep right with 100.0 % certainty\n",
      "Image 1 : No entry\n",
      "Predicted No entry with 100.0 % certainty\n",
      "Image 2 : Road work\n",
      "Predicted Road work with 100.0 % certainty\n",
      "Image 3 : General caution\n",
      "Predicted Children crossing with 82.4 % certainty\n",
      "Image 4 : No passing\n",
      "Predicted No passing with 100.0 % certainty\n",
      "Image 5 : Speed limit (50km/h)\n",
      "Predicted Speed limit (30km/h) with 100.0 % certainty\n",
      "Image 6 : Speed limit (50km/h)\n",
      "Predicted Speed limit (50km/h) with 100.0 % certainty\n",
      "Image 7 : Slippery road\n",
      "Predicted Go straight or left with 68.6 % certainty\n",
      "Image 8 : Speed limit (20km/h)\n",
      "Predicted Speed limit (20km/h) with 99.3 % certainty\n",
      "Image 9 : Speed limit (20km/h)\n",
      "Predicted Speed limit (20km/h) with 99.7 % certainty\n",
      "Image 10 : Speed limit (30km/h)\n",
      "Predicted Children crossing with 100.0 % certainty\n"
     ]
    }
   ],
   "source": [
    "for img_id in range(len(pic_label)):\n",
    "    pred_tmp = signnames['SignName'].values[top_pred[1][img_id][0]]\n",
    "    val = 100*top_pred[0][img_id][0]\n",
    "    print('Image {} : {}'.format(img_id, signnames['SignName'].values[pic_label[img_id]] ))\n",
    "    print('Predicted {} with {:.1f} % certainty'.format(pred_tmp, val))"
   ]
  },
  {
   "cell_type": "markdown",
   "metadata": {},
   "source": [
    "The model was ??% accurate on these 11 test images."
   ]
  },
  {
   "cell_type": "markdown",
   "metadata": {},
   "source": [
    "### Output Top 5 Softmax Probabilities For Each Image Found on the Web"
   ]
  },
  {
   "cell_type": "markdown",
   "metadata": {},
   "source": [
    "For each of the new images, print out the model's softmax probabilities to show the **certainty** of the model's predictions (limit the output to the top 5 probabilities for each image). [`tf.nn.top_k`](https://www.tensorflow.org/versions/r0.12/api_docs/python/nn.html#top_k) could prove helpful here. \n",
    "\n",
    "The example below demonstrates how tf.nn.top_k can be used to find the top k predictions for each image.\n",
    "\n",
    "`tf.nn.top_k` will return the values and indices (class ids) of the top k predictions. So if k=3, for each sign, it'll return the 3 largest probabilities (out of a possible 43) and the correspoding class ids.\n",
    "\n",
    "Take this numpy array as an example. The values in the array represent predictions. The array contains softmax probabilities for five candidate images with six possible classes. `tf.nn.top_k` is used to choose the three classes with the highest probability:\n",
    "\n",
    "```\n",
    "# (5, 6) array\n",
    "a = np.array([[ 0.24879643,  0.07032244,  0.12641572,  0.34763842,  0.07893497,\n",
    "         0.12789202],\n",
    "       [ 0.28086119,  0.27569815,  0.08594638,  0.0178669 ,  0.18063401,\n",
    "         0.15899337],\n",
    "       [ 0.26076848,  0.23664738,  0.08020603,  0.07001922,  0.1134371 ,\n",
    "         0.23892179],\n",
    "       [ 0.11943333,  0.29198961,  0.02605103,  0.26234032,  0.1351348 ,\n",
    "         0.16505091],\n",
    "       [ 0.09561176,  0.34396535,  0.0643941 ,  0.16240774,  0.24206137,\n",
    "         0.09155967]])\n",
    "```\n",
    "\n",
    "Running it through `sess.run(tf.nn.top_k(tf.constant(a), k=3))` produces:\n",
    "\n",
    "```\n",
    "TopKV2(values=array([[ 0.34763842,  0.24879643,  0.12789202],\n",
    "       [ 0.28086119,  0.27569815,  0.18063401],\n",
    "       [ 0.26076848,  0.23892179,  0.23664738],\n",
    "       [ 0.29198961,  0.26234032,  0.16505091],\n",
    "       [ 0.34396535,  0.24206137,  0.16240774]]), indices=array([[3, 0, 5],\n",
    "       [0, 1, 4],\n",
    "       [0, 5, 1],\n",
    "       [1, 3, 5],\n",
    "       [1, 4, 3]], dtype=int32))\n",
    "```\n",
    "\n",
    "Looking just at the first row we get `[ 0.34763842,  0.24879643,  0.12789202]`, you can confirm these are the 3 largest probabilities in `a`. You'll also notice `[3, 0, 5]` are the corresponding indices."
   ]
  },
  {
   "cell_type": "code",
   "execution_count": null,
   "metadata": {
    "collapsed": true
   },
   "outputs": [],
   "source": [
    "### Print out the top five softmax probabilities for the predictions on the German traffic sign images found on the web. \n",
    "### Feel free to use as many code cells as needed."
   ]
  },
  {
   "cell_type": "markdown",
   "metadata": {},
   "source": [
    "### Project Writeup\n",
    "\n",
    "Once you have completed the code implementation, document your results in a project writeup using this [template](https://github.com/udacity/CarND-Traffic-Sign-Classifier-Project/blob/master/writeup_template.md) as a guide. The writeup can be in a markdown or pdf file. "
   ]
  },
  {
   "cell_type": "markdown",
   "metadata": {},
   "source": [
    "> **Note**: Once you have completed all of the code implementations and successfully answered each question above, you may finalize your work by exporting the iPython Notebook as an HTML document. You can do this by using the menu above and navigating to  \\n\",\n",
    "    \"**File -> Download as -> HTML (.html)**. Include the finished document along with this notebook as your submission."
   ]
  },
  {
   "cell_type": "markdown",
   "metadata": {},
   "source": [
    "---\n",
    "\n",
    "## Step 4 (Optional): Visualize the Neural Network's State with Test Images\n",
    "\n",
    " This Section is not required to complete but acts as an additional excersise for understaning the output of a neural network's weights. While neural networks can be a great learning device they are often referred to as a black box. We can understand what the weights of a neural network look like better by plotting their feature maps. After successfully training your neural network you can see what it's feature maps look like by plotting the output of the network's weight layers in response to a test stimuli image. From these plotted feature maps, it's possible to see what characteristics of an image the network finds interesting. For a sign, maybe the inner network feature maps react with high activation to the sign's boundary outline or to the contrast in the sign's painted symbol.\n",
    "\n",
    " Provided for you below is the function code that allows you to get the visualization output of any tensorflow weight layer you want. The inputs to the function should be a stimuli image, one used during training or a new one you provided, and then the tensorflow variable name that represents the layer's state during the training process, for instance if you wanted to see what the [LeNet lab's](https://classroom.udacity.com/nanodegrees/nd013/parts/fbf77062-5703-404e-b60c-95b78b2f3f9e/modules/6df7ae49-c61c-4bb2-a23e-6527e69209ec/lessons/601ae704-1035-4287-8b11-e2c2716217ad/concepts/d4aca031-508f-4e0b-b493-e7b706120f81) feature maps looked like for it's second convolutional layer you could enter conv2 as the tf_activation variable.\n",
    "\n",
    "For an example of what feature map outputs look like, check out NVIDIA's results in their paper [End-to-End Deep Learning for Self-Driving Cars](https://devblogs.nvidia.com/parallelforall/deep-learning-self-driving-cars/) in the section Visualization of internal CNN State. NVIDIA was able to show that their network's inner weights had high activations to road boundary lines by comparing feature maps from an image with a clear path to one without. Try experimenting with a similar test to show that your trained network's weights are looking for interesting features, whether it's looking at differences in feature maps from images with or without a sign, or even what feature maps look like in a trained network vs a completely untrained one on the same sign image.\n",
    "\n",
    "<figure>\n",
    " <img src=\"visualize_cnn.png\" width=\"380\" alt=\"Combined Image\" />\n",
    " <figcaption>\n",
    " <p></p> \n",
    " <p style=\"text-align: center;\"> Your output should look something like this (above)</p> \n",
    " </figcaption>\n",
    "</figure>\n",
    " <p></p> \n"
   ]
  },
  {
   "cell_type": "code",
   "execution_count": null,
   "metadata": {},
   "outputs": [],
   "source": [
    "def outputFeatureMap(image_input, tf_activation, activation_min=-1, activation_max=-1 ,plt_num=1):\n",
    "    '''\n",
    "    Visualize your network's feature maps\n",
    "    \n",
    "    Parameters:\n",
    "    -----------\n",
    "    image_input:\n",
    "        the test image being fed into the network to produce the feature maps\n",
    "    tf_activation: tf.Variable\n",
    "        used during training procedure that represents the calculated state of a specific weight layer\n",
    "    activation_min/max:\n",
    "        can be used to view the activation contrast in more detail, by default matplot sets min and max to the actual min and max values of the output\n",
    "    plt_num: int\n",
    "        amount of (weight) feature map entry\n",
    "    '''\n",
    "    # Here make sure to preprocess your image_input in a way your network expects\n",
    "    # with size, normalization, ect if needed\n",
    "    image_input = preprocessing(image_input)\n",
    "    image_input = image_input.reshape(-1,32,32,1)\n",
    "    # Note: x should be the same name as your network's tensorflow data placeholder variable\n",
    "    # If you get an error tf_activation is not defined it may be having trouble accessing the variable from inside a function\n",
    "    activation = tf_activation.eval(session=sess,feed_dict={x : image_input})\n",
    "    featuremaps = activation.shape[3]\n",
    "    plt.figure(plt_num, figsize=(15,15))\n",
    "    for featuremap in range(featuremaps):\n",
    "        plt.subplot(6,8, featuremap+1) # sets the number of feature maps to show on each row and column\n",
    "        plt.title('FeatureMap ' + str(featuremap)) # displays the feature map number\n",
    "        if activation_min != -1 & activation_max != -1:\n",
    "            plt.imshow(activation[0,:,:, featuremap], interpolation=\"nearest\", vmin =activation_min, vmax=activation_max, cmap=\"gray\")\n",
    "        elif activation_max != -1:\n",
    "            plt.imshow(activation[0,:,:, featuremap], interpolation=\"nearest\", vmax=activation_max, cmap=\"gray\")\n",
    "        elif activation_min !=-1:\n",
    "            plt.imshow(activation[0,:,:, featuremap], interpolation=\"nearest\", vmin=activation_min, cmap=\"gray\")\n",
    "        else:\n",
    "            plt.imshow(activation[0,:,:, featuremap], interpolation=\"nearest\", cmap=\"gray\")\n",
    "            \n",
    "X_test = [pic0]\n",
    "outputFeatureMap(X_test, W1)"
   ]
  },
  {
   "cell_type": "code",
   "execution_count": null,
   "metadata": {
    "collapsed": true
   },
   "outputs": [],
   "source": []
  }
 ],
 "metadata": {
  "anaconda-cloud": {},
  "kernelspec": {
   "display_name": "Python 3",
   "language": "python",
   "name": "python3"
  },
  "language_info": {
   "codemirror_mode": {
    "name": "ipython",
    "version": 3
   },
   "file_extension": ".py",
   "mimetype": "text/x-python",
   "name": "python",
   "nbconvert_exporter": "python",
   "pygments_lexer": "ipython3",
   "version": "3.5.2"
  },
  "widgets": {
   "state": {},
   "version": "1.1.2"
  }
 },
 "nbformat": 4,
 "nbformat_minor": 1
}
